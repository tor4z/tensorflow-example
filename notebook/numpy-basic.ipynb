{
 "cells": [
  {
   "cell_type": "markdown",
   "metadata": {},
   "source": [
    "# numpy basic"
   ]
  },
  {
   "cell_type": "code",
   "execution_count": 15,
   "metadata": {
    "collapsed": true
   },
   "outputs": [],
   "source": [
    "import numpy as np\n",
    "import matplotlib.pyplot as plt"
   ]
  },
  {
   "cell_type": "markdown",
   "metadata": {},
   "source": [
    "### numpy.linspace\n",
    "\n",
    "    numpy.linspace(start, stop, num=50, endpoint=True, retstep=False, dtype=None)[source]\n",
    "\n",
    "\n",
    "Return evenly spaced numbers over a specified interval.\n",
    "Returns num evenly spaced samples, calculated over the interval [start, stop].\n",
    "The endpoint of the interval can optionally be excluded."
   ]
  },
  {
   "cell_type": "code",
   "execution_count": 12,
   "metadata": {
    "collapsed": false
   },
   "outputs": [
    {
     "data": {
      "text/plain": [
       "array([ 1.        ,  1.83333333,  2.66666667,  3.5       ,  4.33333333,\n",
       "        5.16666667,  6.        ])"
      ]
     },
     "execution_count": 12,
     "metadata": {},
     "output_type": "execute_result"
    }
   ],
   "source": [
    "np.linspace(1,6,7)"
   ]
  },
  {
   "cell_type": "markdown",
   "metadata": {},
   "source": [
    "### numpy.random.randn\n",
    "\n",
    "    numpy.random.randn(d0, d1, ..., dn)\n",
    "    \n",
    "Return a sample (or samples) from the \"standard norma\" distribution.\n",
    "\n",
    "If positive, int_like or int-convertible arguments are provided, randn generates an array of shape (d0, d1, ..., dn), filled with random floats sampled from a univariate “normal” (Gaussian) distribution of mean 0 and variance 1 (if any of the d_i are floats, they are first converted to integers by truncation). A single float randomly sampled from the distribution is returned if no argument is provided."
   ]
  },
  {
   "cell_type": "code",
   "execution_count": 13,
   "metadata": {
    "collapsed": false
   },
   "outputs": [
    {
     "data": {
      "text/plain": [
       "array([[-0.4397631 , -0.3261297 , -0.07933577,  0.63652957,  0.73838971,\n",
       "        -0.0622873 ],\n",
       "       [ 0.4711659 ,  1.59717941, -0.10270735,  0.3250875 , -0.87652163,\n",
       "         1.41356262]])"
      ]
     },
     "execution_count": 13,
     "metadata": {},
     "output_type": "execute_result"
    }
   ],
   "source": [
    "np.random.randn(2,6)"
   ]
  },
  {
   "cell_type": "code",
   "execution_count": 16,
   "metadata": {
    "collapsed": false
   },
   "outputs": [
    {
     "data": {
      "image/png": "[encoded data removed]",
      "text/plain": [
       "<matplotlib.figure.Figure at 0x1b9682abe10>"
      ]
     },
     "metadata": {},
     "output_type": "display_data"
    }
   ],
   "source": [
    "#@test {\"output\": \"ignore\"}\n",
    "num_examples = 50\n",
    "X = np.array([np.linspace(-2, 4, num_examples), np.linspace(-6, 6, num_examples)])\n",
    "plt.figure(figsize=(4,4))\n",
    "plt.scatter(X[0], X[1])\n",
    "plt.show()"
   ]
  },
  {
   "cell_type": "code",
   "execution_count": 19,
   "metadata": {
    "collapsed": false
   },
   "outputs": [
    {
     "data": {
      "image/png": "[encoded data removed]",
      "text/plain": [
       "<matplotlib.figure.Figure at 0x1b969294b00>"
      ]
     },
     "metadata": {},
     "output_type": "display_data"
    }
   ],
   "source": [
    "X += np.random.randn(2, num_examples)\n",
    "plt.figure(figsize = (4, 4))\n",
    "plt.scatter(X[0], X[1])\n",
    "plt.show()"
   ]
  },
  {
   "cell_type": "code",
   "execution_count": 20,
   "metadata": {
    "collapsed": true
   },
   "outputs": [],
   "source": [
    "X = np.array([np.linspace(-2, 4, num_examples), np.linspace(-6, 6, num_examples)])\n",
    "X += np.random.randn(2, num_examples)\n",
    "x, y = X\n",
    "x_with_bias = np.array([(1., a) for a in x]).astype(np.float32)"
   ]
  },
  {
   "cell_type": "code",
   "execution_count": 21,
   "metadata": {
    "collapsed": false
   },
   "outputs": [
    {
     "data": {
      "text/plain": [
       "array([[ 1.        , -1.86518443],\n",
       "       [ 1.        , -2.88536048],\n",
       "       [ 1.        , -2.95802736],\n",
       "       [ 1.        , -1.66230035],\n",
       "       [ 1.        , -1.23746479],\n",
       "       [ 1.        , -1.7265631 ],\n",
       "       [ 1.        ,  0.78830743],\n",
       "       [ 1.        , -1.69477725],\n",
       "       [ 1.        , -1.17201829],\n",
       "       [ 1.        , -1.31002176],\n",
       "       [ 1.        ,  0.48900434],\n",
       "       [ 1.        , -0.03013461],\n",
       "       [ 1.        , -2.38376498],\n",
       "       [ 1.        , -1.37185836],\n",
       "       [ 1.        , -0.73939705],\n",
       "       [ 1.        , -1.57716274],\n",
       "       [ 1.        ,  0.94870853],\n",
       "       [ 1.        , -1.65285194],\n",
       "       [ 1.        , -0.28866935],\n",
       "       [ 1.        , -0.23985292],\n",
       "       [ 1.        ,  0.49198139],\n",
       "       [ 1.        , -0.26124856],\n",
       "       [ 1.        ,  0.7785846 ],\n",
       "       [ 1.        ,  0.09069555],\n",
       "       [ 1.        ,  0.41564319],\n",
       "       [ 1.        ,  1.40255249],\n",
       "       [ 1.        ,  1.46451592],\n",
       "       [ 1.        ,  1.82585049],\n",
       "       [ 1.        , -0.57015163],\n",
       "       [ 1.        ,  2.09776974],\n",
       "       [ 1.        ,  2.46400881],\n",
       "       [ 1.        ,  2.5136106 ],\n",
       "       [ 1.        ,  2.46159244],\n",
       "       [ 1.        ,  2.2429359 ],\n",
       "       [ 1.        ,  2.17255735],\n",
       "       [ 1.        ,  0.55079412],\n",
       "       [ 1.        ,  2.70414114],\n",
       "       [ 1.        ,  1.08802783],\n",
       "       [ 1.        ,  4.26263952],\n",
       "       [ 1.        ,  1.43755972],\n",
       "       [ 1.        ,  4.72264051],\n",
       "       [ 1.        ,  4.74027348],\n",
       "       [ 1.        ,  3.70234418],\n",
       "       [ 1.        ,  3.80628204],\n",
       "       [ 1.        ,  1.47900677],\n",
       "       [ 1.        ,  4.49693823],\n",
       "       [ 1.        ,  4.83768368],\n",
       "       [ 1.        ,  4.51021433],\n",
       "       [ 1.        ,  5.29266739],\n",
       "       [ 1.        ,  5.21139336]], dtype=float32)"
      ]
     },
     "execution_count": 21,
     "metadata": {},
     "output_type": "execute_result"
    }
   ],
   "source": [
    "x_with_bias"
   ]
  },
  {
   "cell_type": "code",
   "execution_count": 22,
   "metadata": {
    "collapsed": false
   },
   "outputs": [
    {
     "data": {
      "text/plain": [
       "array([-5.70736723, -5.11885827, -5.32833681, -5.92035425, -3.72620895,\n",
       "       -4.47711864, -3.38029586, -5.67973992, -3.41444907, -3.11716053,\n",
       "       -2.13247026, -4.59257647, -1.47406905, -3.37356689, -4.60918498,\n",
       "       -1.13970116, -1.43232762, -0.53384983, -0.15475381, -0.16529899,\n",
       "       -0.04494165, -0.52731507, -2.72162641,  0.13394076, -0.77755606,\n",
       "       -1.17334225,  1.61240506,  2.44883351,  1.50946791, -0.26067256,\n",
       "        1.73478295,  0.85173306,  0.68739123,  2.64900474,  2.80863517,\n",
       "        3.57492351,  2.28102872,  4.6054928 ,  4.44916461,  5.14685706,\n",
       "        3.1288365 ,  4.86690394,  3.69557462,  6.90779473,  5.5966825 ,\n",
       "        6.59742029,  2.88902454,  7.33738202,  5.99838508,  4.50743784])"
      ]
     },
     "execution_count": 22,
     "metadata": {},
     "output_type": "execute_result"
    }
   ],
   "source": [
    "y"
   ]
  },
  {
   "cell_type": "code",
   "execution_count": null,
   "metadata": {
    "collapsed": true
   },
   "outputs": [],
   "source": []
  }
 ],
 "metadata": {
  "kernelspec": {
   "display_name": "Python 3",
   "language": "python",
   "name": "python3"
  },
  "language_info": {
   "codemirror_mode": {
    "name": "ipython",
    "version": 3
   },
   "file_extension": ".py",
   "mimetype": "text/x-python",
   "name": "python",
   "nbconvert_exporter": "python",
   "pygments_lexer": "ipython3",
   "version": "3.5.3"
  }
 },
 "nbformat": 4,
 "nbformat_minor": 2
}
